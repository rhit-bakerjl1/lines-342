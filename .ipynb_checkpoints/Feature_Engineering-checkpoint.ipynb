{
 "cells": [
  {
   "cell_type": "markdown",
   "id": "demanding-sarah",
   "metadata": {},
   "source": [
    "# Feature Engineering"
   ]
  },
  {
   "cell_type": "code",
   "execution_count": 1,
   "id": "mighty-locator",
   "metadata": {},
   "outputs": [],
   "source": [
    "import numpy as np\n",
    "import matplotlib.pyplot as plt\n",
    "import pandas as pd\n",
    "from sklearn.model_selection import cross_validate\n",
    "from sklearn.linear_model import LinearRegression\n",
    "from sklearn.preprocessing import PolynomialFeatures"
   ]
  },
  {
   "cell_type": "code",
   "execution_count": 12,
   "id": "human-stephen",
   "metadata": {},
   "outputs": [],
   "source": [
    "df=pd.read_csv('more_data2.csv')\n",
    "df = df.drop('eng_mfgr', axis = 1)\n",
    "df = df.drop('acft_make', axis = 1)\n",
    "df = df.drop('acft_model', axis = 1)\n",
    "df = df.drop('inj_tot_f', axis = 1)\n",
    "df = df.drop('inj_tot_s', axis = 1)\n",
    "df = df.drop('inj_tot_m', axis = 1)\n",
    "df = df.dropna()"
   ]
  },
  {
   "cell_type": "code",
   "execution_count": 13,
   "id": "comparable-passage",
   "metadata": {},
   "outputs": [
    {
     "data": {
      "text/plain": [
       "27    0.022393\n",
       "37    0.022393\n",
       "39    0.470925\n",
       "40    0.919456\n",
       "41   -0.426138\n",
       "Name: inj_tot_t, dtype: float64"
      ]
     },
     "execution_count": 13,
     "metadata": {},
     "output_type": "execute_result"
    }
   ],
   "source": [
    "X_number = df.select_dtypes(include='number')\n",
    "X_category = df.select_dtypes(exclude='number')\n",
    "X_number = (X_number - X_number.mean())/X_number.std()\n",
    "X_category = pd.get_dummies(X_category)\n",
    "X = pd.concat([X_number, X_category], axis =1)\n",
    "Y=X.inj_tot_t\n",
    "X = X.drop('inj_tot_t', axis = 1)\n",
    "Y.head()"
   ]
  },
  {
   "cell_type": "code",
   "execution_count": 14,
   "id": "frank-circular",
   "metadata": {},
   "outputs": [
    {
     "data": {
      "text/html": [
       "<div>\n",
       "<style scoped>\n",
       "    .dataframe tbody tr th:only-of-type {\n",
       "        vertical-align: middle;\n",
       "    }\n",
       "\n",
       "    .dataframe tbody tr th {\n",
       "        vertical-align: top;\n",
       "    }\n",
       "\n",
       "    .dataframe thead th {\n",
       "        text-align: right;\n",
       "    }\n",
       "</style>\n",
       "<table border=\"1\" class=\"dataframe\">\n",
       "  <thead>\n",
       "    <tr style=\"text-align: right;\">\n",
       "      <th></th>\n",
       "      <th>ev_time</th>\n",
       "      <th>ev_year</th>\n",
       "      <th>sky_nonceil_ht</th>\n",
       "      <th>sky_ceil_ht</th>\n",
       "      <th>vis_sm</th>\n",
       "      <th>wx_temp</th>\n",
       "      <th>wx_dew_pt</th>\n",
       "      <th>wind_vel_kts</th>\n",
       "      <th>gust_kts</th>\n",
       "      <th>inj_tot_f</th>\n",
       "      <th>...</th>\n",
       "      <th>second_pilot_Y eng_type_TF</th>\n",
       "      <th>second_pilot_Y eng_type_TP</th>\n",
       "      <th>second_pilot_Y eng_type_TS</th>\n",
       "      <th>carb_fuel_injection_CARB eng_type_REC</th>\n",
       "      <th>carb_fuel_injection_FINJ eng_type_REC</th>\n",
       "      <th>carb_fuel_injection_FINJ eng_type_TF</th>\n",
       "      <th>carb_fuel_injection_FINJ eng_type_TJ</th>\n",
       "      <th>carb_fuel_injection_FINJ eng_type_TP</th>\n",
       "      <th>carb_fuel_injection_FINJ eng_type_TS</th>\n",
       "      <th>bias</th>\n",
       "    </tr>\n",
       "  </thead>\n",
       "  <tbody>\n",
       "    <tr>\n",
       "      <th>0</th>\n",
       "      <td>0.990709</td>\n",
       "      <td>0.002367</td>\n",
       "      <td>5.663945</td>\n",
       "      <td>-0.223693</td>\n",
       "      <td>0.011537</td>\n",
       "      <td>0.100763</td>\n",
       "      <td>-1.733665</td>\n",
       "      <td>-0.691979</td>\n",
       "      <td>-0.452436</td>\n",
       "      <td>-0.345307</td>\n",
       "      <td>...</td>\n",
       "      <td>-0.06699</td>\n",
       "      <td>-0.072385</td>\n",
       "      <td>-0.054656</td>\n",
       "      <td>-1.080344</td>\n",
       "      <td>1.172261</td>\n",
       "      <td>-0.090875</td>\n",
       "      <td>-0.047316</td>\n",
       "      <td>-0.151158</td>\n",
       "      <td>-0.086614</td>\n",
       "      <td>1</td>\n",
       "    </tr>\n",
       "    <tr>\n",
       "      <th>1</th>\n",
       "      <td>0.334498</td>\n",
       "      <td>0.355313</td>\n",
       "      <td>5.663945</td>\n",
       "      <td>-0.223693</td>\n",
       "      <td>0.011537</td>\n",
       "      <td>-0.481640</td>\n",
       "      <td>-0.696658</td>\n",
       "      <td>0.058737</td>\n",
       "      <td>-0.452436</td>\n",
       "      <td>0.967447</td>\n",
       "      <td>...</td>\n",
       "      <td>-0.06699</td>\n",
       "      <td>-0.072385</td>\n",
       "      <td>-0.054656</td>\n",
       "      <td>0.924942</td>\n",
       "      <td>-0.852416</td>\n",
       "      <td>-0.090875</td>\n",
       "      <td>-0.047316</td>\n",
       "      <td>-0.151158</td>\n",
       "      <td>-0.086614</td>\n",
       "      <td>1</td>\n",
       "    </tr>\n",
       "    <tr>\n",
       "      <th>2</th>\n",
       "      <td>1.023601</td>\n",
       "      <td>0.708260</td>\n",
       "      <td>5.663945</td>\n",
       "      <td>-0.223693</td>\n",
       "      <td>0.011537</td>\n",
       "      <td>-0.111020</td>\n",
       "      <td>-0.230004</td>\n",
       "      <td>-0.691979</td>\n",
       "      <td>-0.452436</td>\n",
       "      <td>-0.345307</td>\n",
       "      <td>...</td>\n",
       "      <td>-0.06699</td>\n",
       "      <td>-0.072385</td>\n",
       "      <td>-0.054656</td>\n",
       "      <td>-1.080344</td>\n",
       "      <td>1.172261</td>\n",
       "      <td>-0.090875</td>\n",
       "      <td>-0.047316</td>\n",
       "      <td>-0.151158</td>\n",
       "      <td>-0.086614</td>\n",
       "      <td>1</td>\n",
       "    </tr>\n",
       "  </tbody>\n",
       "</table>\n",
       "<p>3 rows × 945 columns</p>\n",
       "</div>"
      ],
      "text/plain": [
       "    ev_time   ev_year  sky_nonceil_ht  sky_ceil_ht    vis_sm   wx_temp  \\\n",
       "0  0.990709  0.002367        5.663945    -0.223693  0.011537  0.100763   \n",
       "1  0.334498  0.355313        5.663945    -0.223693  0.011537 -0.481640   \n",
       "2  1.023601  0.708260        5.663945    -0.223693  0.011537 -0.111020   \n",
       "\n",
       "   wx_dew_pt  wind_vel_kts  gust_kts  inj_tot_f  ...  \\\n",
       "0  -1.733665     -0.691979 -0.452436  -0.345307  ...   \n",
       "1  -0.696658      0.058737 -0.452436   0.967447  ...   \n",
       "2  -0.230004     -0.691979 -0.452436  -0.345307  ...   \n",
       "\n",
       "   second_pilot_Y eng_type_TF  second_pilot_Y eng_type_TP  \\\n",
       "0                    -0.06699                   -0.072385   \n",
       "1                    -0.06699                   -0.072385   \n",
       "2                    -0.06699                   -0.072385   \n",
       "\n",
       "   second_pilot_Y eng_type_TS  carb_fuel_injection_CARB eng_type_REC  \\\n",
       "0                   -0.054656                              -1.080344   \n",
       "1                   -0.054656                               0.924942   \n",
       "2                   -0.054656                              -1.080344   \n",
       "\n",
       "   carb_fuel_injection_FINJ eng_type_REC  \\\n",
       "0                               1.172261   \n",
       "1                              -0.852416   \n",
       "2                               1.172261   \n",
       "\n",
       "   carb_fuel_injection_FINJ eng_type_TF  carb_fuel_injection_FINJ eng_type_TJ  \\\n",
       "0                             -0.090875                             -0.047316   \n",
       "1                             -0.090875                             -0.047316   \n",
       "2                             -0.090875                             -0.047316   \n",
       "\n",
       "   carb_fuel_injection_FINJ eng_type_TP  carb_fuel_injection_FINJ eng_type_TS  \\\n",
       "0                             -0.151158                             -0.086614   \n",
       "1                             -0.151158                             -0.086614   \n",
       "2                             -0.151158                             -0.086614   \n",
       "\n",
       "   bias  \n",
       "0     1  \n",
       "1     1  \n",
       "2     1  \n",
       "\n",
       "[3 rows x 945 columns]"
      ]
     },
     "execution_count": 14,
     "metadata": {},
     "output_type": "execute_result"
    }
   ],
   "source": [
    "#engineer interaction features\n",
    "poly = PolynomialFeatures(2, interaction_only = True, include_bias = False)\n",
    "Xe = poly.fit_transform(X)\n",
    "cols = poly.get_feature_names(X.columns)\n",
    "Xe = pd.DataFrame(Xe, columns = cols)\n",
    "Xe = (Xe - Xe.mean())/Xe.std()\n",
    "Xe = Xe.dropna(axis=1)\n",
    "Xe['bias'] = 1\n",
    "Xe.head(3)"
   ]
  },
  {
   "cell_type": "code",
   "execution_count": 29,
   "id": "veterinary-closure",
   "metadata": {},
   "outputs": [
    {
     "name": "stdout",
     "output_type": "stream",
     "text": [
      "Train R2 0.9\n",
      "Validation R2 -2.553942574961794e+25\n"
     ]
    }
   ],
   "source": [
    "lr = LinearRegression(fit_intercept=False)\n",
    "lr.fit(Xe, Y)\n",
    "cv_results = cross_validate(lr, Xe, Y, return_train_score = True)\n",
    "R2_train = cv_results['train_score'].mean()\n",
    "R2_valid = cv_results['test_score'].mean()\n",
    "print('Train R2', R2_train.round(2))\n",
    "print('Validation R2', R2_valid.round(2))"
   ]
  },
  {
   "cell_type": "code",
   "execution_count": 28,
   "id": "protective-country",
   "metadata": {},
   "outputs": [
    {
     "data": {
      "text/plain": [
       "gust_kts                                2.765589e+12\n",
       "total_seats                             2.158633e+12\n",
       "ev_time light_cond_NR                   1.952405e+12\n",
       "dec_longitude                           1.732861e+12\n",
       "carb_fuel_injection_CARB                1.537917e+12\n",
       "wind_vel_kts ev_country_USA             1.167298e+12\n",
       "wind_vel_kts eng_type_REC               1.165956e+12\n",
       "acft_fire_GRD                           1.124700e+12\n",
       "wind_vel_kts damage_SUBS                1.083724e+12\n",
       "power_units                             1.051682e+12\n",
       "dec_longitude acft_fire_IFLT            1.047292e+12\n",
       "wind_vel_kts light_cond_DAYL            1.009453e+12\n",
       "ev_time acft_fire_UNK                   1.001855e+12\n",
       "ev_time ev_country_CQ                   9.104410e+11\n",
       "dec_longitude eng_type_TJ               8.320426e+11\n",
       "inj_tot_m light_cond_DAWN               7.822165e+11\n",
       "inj_tot_m acft_fire_IFLT                7.668321e+11\n",
       "rwy_len eng_type_TF                     7.432186e+11\n",
       "second_pilot_Y                          7.430752e+11\n",
       "damage_MINR                             7.135970e+11\n",
       "wind_vel_kts acft_fire_NONE             7.046914e+11\n",
       "wx_dew_pt light_cond_DAYL               7.042695e+11\n",
       "light_cond_DAWN                         6.861886e+11\n",
       "sky_ceil_ht light_cond_DAYL             6.692188e+11\n",
       "total_seats carb_fuel_injection_FINJ    6.635328e+11\n",
       "dtype: float64"
      ]
     },
     "execution_count": 28,
     "metadata": {},
     "output_type": "execute_result"
    }
   ],
   "source": [
    "coef = pd.Series(lr.coef_, index = Xe.columns)\n",
    "coef.sort_values(ascending = False).head(25)\n",
    "#coef = pd.Series(lr.coef_, index = Xe.columns).round(2)\n",
    "#coef = coef.replace(0, np.nan)\n",
    "#coef = coef.dropna()\n",
    "#coef = coef.sort_values(ascending = False)\n",
    "#coef.plot(x='coeff', figsize=(5, 20), kind=\"barh\")\n",
    "#coef"
   ]
  },
  {
   "cell_type": "code",
   "execution_count": null,
   "id": "assisted-session",
   "metadata": {},
   "outputs": [],
   "source": []
  },
  {
   "cell_type": "code",
   "execution_count": null,
   "id": "southern-torture",
   "metadata": {},
   "outputs": [],
   "source": []
  }
 ],
 "metadata": {
  "kernelspec": {
   "display_name": "Python 3",
   "language": "python",
   "name": "python3"
  },
  "language_info": {
   "codemirror_mode": {
    "name": "ipython",
    "version": 3
   },
   "file_extension": ".py",
   "mimetype": "text/x-python",
   "name": "python",
   "nbconvert_exporter": "python",
   "pygments_lexer": "ipython3",
   "version": "3.8.8"
  }
 },
 "nbformat": 4,
 "nbformat_minor": 5
}
