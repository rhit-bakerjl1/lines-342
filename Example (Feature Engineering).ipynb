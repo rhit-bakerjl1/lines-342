{
 "cells": [
  {
   "cell_type": "markdown",
   "id": "demanding-sarah",
   "metadata": {},
   "source": [
    "# Example (Feature Engineering)"
   ]
  },
  {
   "cell_type": "code",
   "execution_count": 65,
   "id": "mighty-locator",
   "metadata": {},
   "outputs": [],
   "source": [
    "import numpy as np\n",
    "import matplotlib.pyplot as plt\n",
    "import pandas as pd\n",
    "from sklearn.model_selection import cross_validate\n",
    "from sklearn.linear_model import LinearRegression\n",
    "from sklearn.preprocessing import PolynomialFeatures"
   ]
  },
  {
   "cell_type": "code",
   "execution_count": 59,
   "id": "human-stephen",
   "metadata": {},
   "outputs": [
    {
     "data": {
      "text/html": [
       "<div>\n",
       "<style scoped>\n",
       "    .dataframe tbody tr th:only-of-type {\n",
       "        vertical-align: middle;\n",
       "    }\n",
       "\n",
       "    .dataframe tbody tr th {\n",
       "        vertical-align: top;\n",
       "    }\n",
       "\n",
       "    .dataframe thead th {\n",
       "        text-align: right;\n",
       "    }\n",
       "</style>\n",
       "<table border=\"1\" class=\"dataframe\">\n",
       "  <thead>\n",
       "    <tr style=\"text-align: right;\">\n",
       "      <th></th>\n",
       "      <th>Date</th>\n",
       "      <th>Location</th>\n",
       "      <th>Operator</th>\n",
       "      <th>Route</th>\n",
       "      <th>Type</th>\n",
       "      <th>Registration</th>\n",
       "      <th>cn/In</th>\n",
       "      <th>Aboard</th>\n",
       "      <th>Fatalities</th>\n",
       "      <th>Ground</th>\n",
       "    </tr>\n",
       "  </thead>\n",
       "  <tbody>\n",
       "    <tr>\n",
       "      <th>56</th>\n",
       "      <td>1921</td>\n",
       "      <td>Paris, France</td>\n",
       "      <td>Franco-Roumaine</td>\n",
       "      <td>Varsovie - Strasbourg - Paris</td>\n",
       "      <td>Potez IX</td>\n",
       "      <td>F-ADCD</td>\n",
       "      <td>160</td>\n",
       "      <td>5.0</td>\n",
       "      <td>5.0</td>\n",
       "      <td>0.0</td>\n",
       "    </tr>\n",
       "    <tr>\n",
       "      <th>102</th>\n",
       "      <td>1926</td>\n",
       "      <td>Rossaugpt, Czechoslovakia</td>\n",
       "      <td>Compagnie Internationale de Navigation Aérienne</td>\n",
       "      <td>Paris - Prague</td>\n",
       "      <td>Caudron C-61</td>\n",
       "      <td>F-AFBT</td>\n",
       "      <td>5307</td>\n",
       "      <td>7.0</td>\n",
       "      <td>7.0</td>\n",
       "      <td>0.0</td>\n",
       "    </tr>\n",
       "    <tr>\n",
       "      <th>121</th>\n",
       "      <td>1927</td>\n",
       "      <td>Hadley, New Jersey</td>\n",
       "      <td>Reynolds Airways</td>\n",
       "      <td>Sightseeing</td>\n",
       "      <td>Fokker F-VII</td>\n",
       "      <td>NC776</td>\n",
       "      <td>4840</td>\n",
       "      <td>12.0</td>\n",
       "      <td>7.0</td>\n",
       "      <td>0.0</td>\n",
       "    </tr>\n",
       "    <tr>\n",
       "      <th>148</th>\n",
       "      <td>1928</td>\n",
       "      <td>Purley, England</td>\n",
       "      <td>Imperial Airways</td>\n",
       "      <td>Testing</td>\n",
       "      <td>Vickers 74 Vulcan</td>\n",
       "      <td>G-EBLB</td>\n",
       "      <td>9</td>\n",
       "      <td>4.0</td>\n",
       "      <td>4.0</td>\n",
       "      <td>0.0</td>\n",
       "    </tr>\n",
       "    <tr>\n",
       "      <th>150</th>\n",
       "      <td>1928</td>\n",
       "      <td>Near Port Townsend, BC, Canada</td>\n",
       "      <td>British Columbia Airways</td>\n",
       "      <td>Victoria - Seattle</td>\n",
       "      <td>Ford 4-AT-B Tri Motor</td>\n",
       "      <td>G-CATX</td>\n",
       "      <td>4-AT-26</td>\n",
       "      <td>7.0</td>\n",
       "      <td>7.0</td>\n",
       "      <td>0.0</td>\n",
       "    </tr>\n",
       "  </tbody>\n",
       "</table>\n",
       "</div>"
      ],
      "text/plain": [
       "     Date                        Location  \\\n",
       "56   1921                   Paris, France   \n",
       "102  1926       Rossaugpt, Czechoslovakia   \n",
       "121  1927              Hadley, New Jersey   \n",
       "148  1928                 Purley, England   \n",
       "150  1928  Near Port Townsend, BC, Canada   \n",
       "\n",
       "                                            Operator  \\\n",
       "56                                   Franco-Roumaine   \n",
       "102  Compagnie Internationale de Navigation Aérienne   \n",
       "121                                 Reynolds Airways   \n",
       "148                                 Imperial Airways   \n",
       "150                         British Columbia Airways   \n",
       "\n",
       "                             Route                   Type Registration  \\\n",
       "56   Varsovie - Strasbourg - Paris               Potez IX       F-ADCD   \n",
       "102                 Paris - Prague           Caudron C-61       F-AFBT   \n",
       "121                    Sightseeing           Fokker F-VII        NC776   \n",
       "148                        Testing      Vickers 74 Vulcan       G-EBLB   \n",
       "150             Victoria - Seattle  Ford 4-AT-B Tri Motor       G-CATX   \n",
       "\n",
       "       cn/In  Aboard  Fatalities  Ground  \n",
       "56       160     5.0         5.0     0.0  \n",
       "102     5307     7.0         7.0     0.0  \n",
       "121     4840    12.0         7.0     0.0  \n",
       "148        9     4.0         4.0     0.0  \n",
       "150  4-AT-26     7.0         7.0     0.0  "
      ]
     },
     "execution_count": 59,
     "metadata": {},
     "output_type": "execute_result"
    }
   ],
   "source": [
    "df = pd.read_csv('Airplane_Crashes_and_Fatalities_Since_1908.csv', sep=',')\n",
    "df = df.dropna()\n",
    "df =df.drop('Summary', axis=1)\n",
    "df.head()"
   ]
  },
  {
   "cell_type": "code",
   "execution_count": 60,
   "id": "comparable-passage",
   "metadata": {},
   "outputs": [
    {
     "data": {
      "text/plain": [
       "56     5.0\n",
       "102    7.0\n",
       "121    7.0\n",
       "148    4.0\n",
       "150    7.0\n",
       "Name: Fatalities, dtype: float64"
      ]
     },
     "execution_count": 60,
     "metadata": {},
     "output_type": "execute_result"
    }
   ],
   "source": [
    "X = df.drop('Fatalities', axis = 1)\n",
    "X_number = X.select_dtypes(include='number')\n",
    "X_category = X.select_dtypes(exclude='number')\n",
    "Xe = (X_number - X_number.mean())/X_number.std()\n",
    "X_category = pd.get_dummies(X_category)\n",
    "X = pd.concat([X_number, X_category], axis =1)\n",
    "Y=df.Fatalities\n",
    "Y.head()"
   ]
  },
  {
   "cell_type": "code",
   "execution_count": 52,
   "id": "frank-circular",
   "metadata": {},
   "outputs": [
    {
     "ename": "KeyboardInterrupt",
     "evalue": "",
     "output_type": "error",
     "traceback": [
      "\u001b[1;31m---------------------------------------------------------------------------\u001b[0m",
      "\u001b[1;31mKeyboardInterrupt\u001b[0m                         Traceback (most recent call last)",
      "\u001b[1;32m<ipython-input-52-0b5568e1a75f>\u001b[0m in \u001b[0;36m<module>\u001b[1;34m\u001b[0m\n\u001b[0;32m      2\u001b[0m \u001b[0mpoly\u001b[0m \u001b[1;33m=\u001b[0m \u001b[0mPolynomialFeatures\u001b[0m\u001b[1;33m(\u001b[0m\u001b[1;36m2\u001b[0m\u001b[1;33m,\u001b[0m \u001b[0minteraction_only\u001b[0m \u001b[1;33m=\u001b[0m \u001b[1;32mTrue\u001b[0m\u001b[1;33m,\u001b[0m \u001b[0minclude_bias\u001b[0m \u001b[1;33m=\u001b[0m \u001b[1;32mFalse\u001b[0m\u001b[1;33m)\u001b[0m\u001b[1;33m\u001b[0m\u001b[1;33m\u001b[0m\u001b[0m\n\u001b[0;32m      3\u001b[0m \u001b[0mXe\u001b[0m \u001b[1;33m=\u001b[0m \u001b[0mpoly\u001b[0m\u001b[1;33m.\u001b[0m\u001b[0mfit_transform\u001b[0m\u001b[1;33m(\u001b[0m\u001b[0mX\u001b[0m\u001b[1;33m[\u001b[0m\u001b[1;36m1\u001b[0m\u001b[1;33m:\u001b[0m\u001b[1;36m10\u001b[0m\u001b[1;33m]\u001b[0m\u001b[1;33m)\u001b[0m\u001b[1;33m\u001b[0m\u001b[1;33m\u001b[0m\u001b[0m\n\u001b[1;32m----> 4\u001b[1;33m \u001b[0mcols\u001b[0m \u001b[1;33m=\u001b[0m \u001b[0mpoly\u001b[0m\u001b[1;33m.\u001b[0m\u001b[0mget_feature_names\u001b[0m\u001b[1;33m(\u001b[0m\u001b[0mX\u001b[0m\u001b[1;33m.\u001b[0m\u001b[0mcolumns\u001b[0m\u001b[1;33m)\u001b[0m\u001b[1;33m\u001b[0m\u001b[1;33m\u001b[0m\u001b[0m\n\u001b[0m\u001b[0;32m      5\u001b[0m \u001b[0mXe\u001b[0m \u001b[1;33m=\u001b[0m \u001b[0mpd\u001b[0m\u001b[1;33m.\u001b[0m\u001b[0mDataFrame\u001b[0m\u001b[1;33m(\u001b[0m\u001b[0mXe\u001b[0m\u001b[1;33m,\u001b[0m \u001b[0mcolumns\u001b[0m \u001b[1;33m=\u001b[0m \u001b[0mcols\u001b[0m\u001b[1;33m)\u001b[0m\u001b[1;33m\u001b[0m\u001b[1;33m\u001b[0m\u001b[0m\n\u001b[0;32m      6\u001b[0m \u001b[0mXe\u001b[0m\u001b[1;33m.\u001b[0m\u001b[0mhead\u001b[0m\u001b[1;33m(\u001b[0m\u001b[1;36m3\u001b[0m\u001b[1;33m)\u001b[0m\u001b[1;33m\u001b[0m\u001b[1;33m\u001b[0m\u001b[0m\n",
      "\u001b[1;32m~\\Anaconda3\\lib\\site-packages\\sklearn\\preprocessing\\_data.py\u001b[0m in \u001b[0;36mget_feature_names\u001b[1;34m(self, input_features)\u001b[0m\n\u001b[0;32m   1669\u001b[0m         \u001b[0moutput_feature_names\u001b[0m \u001b[1;33m:\u001b[0m \u001b[0mlist\u001b[0m \u001b[0mof\u001b[0m \u001b[0mstr\u001b[0m \u001b[0mof\u001b[0m \u001b[0mshape\u001b[0m \u001b[1;33m(\u001b[0m\u001b[0mn_output_features\u001b[0m\u001b[1;33m,\u001b[0m\u001b[1;33m)\u001b[0m\u001b[1;33m\u001b[0m\u001b[1;33m\u001b[0m\u001b[0m\n\u001b[0;32m   1670\u001b[0m         \"\"\"\n\u001b[1;32m-> 1671\u001b[1;33m         \u001b[0mpowers\u001b[0m \u001b[1;33m=\u001b[0m \u001b[0mself\u001b[0m\u001b[1;33m.\u001b[0m\u001b[0mpowers_\u001b[0m\u001b[1;33m\u001b[0m\u001b[1;33m\u001b[0m\u001b[0m\n\u001b[0m\u001b[0;32m   1672\u001b[0m         \u001b[1;32mif\u001b[0m \u001b[0minput_features\u001b[0m \u001b[1;32mis\u001b[0m \u001b[1;32mNone\u001b[0m\u001b[1;33m:\u001b[0m\u001b[1;33m\u001b[0m\u001b[1;33m\u001b[0m\u001b[0m\n\u001b[0;32m   1673\u001b[0m             \u001b[0minput_features\u001b[0m \u001b[1;33m=\u001b[0m \u001b[1;33m[\u001b[0m\u001b[1;34m'x%d'\u001b[0m \u001b[1;33m%\u001b[0m \u001b[0mi\u001b[0m \u001b[1;32mfor\u001b[0m \u001b[0mi\u001b[0m \u001b[1;32min\u001b[0m \u001b[0mrange\u001b[0m\u001b[1;33m(\u001b[0m\u001b[0mpowers\u001b[0m\u001b[1;33m.\u001b[0m\u001b[0mshape\u001b[0m\u001b[1;33m[\u001b[0m\u001b[1;36m1\u001b[0m\u001b[1;33m]\u001b[0m\u001b[1;33m)\u001b[0m\u001b[1;33m]\u001b[0m\u001b[1;33m\u001b[0m\u001b[1;33m\u001b[0m\u001b[0m\n",
      "\u001b[1;32m~\\Anaconda3\\lib\\site-packages\\sklearn\\preprocessing\\_data.py\u001b[0m in \u001b[0;36mpowers_\u001b[1;34m(self)\u001b[0m\n\u001b[0;32m   1652\u001b[0m                                           \u001b[0mself\u001b[0m\u001b[1;33m.\u001b[0m\u001b[0minteraction_only\u001b[0m\u001b[1;33m,\u001b[0m\u001b[1;33m\u001b[0m\u001b[1;33m\u001b[0m\u001b[0m\n\u001b[0;32m   1653\u001b[0m                                           self.include_bias)\n\u001b[1;32m-> 1654\u001b[1;33m         return np.vstack([np.bincount(c, minlength=self.n_input_features_)\n\u001b[0m\u001b[0;32m   1655\u001b[0m                           for c in combinations])\n\u001b[0;32m   1656\u001b[0m \u001b[1;33m\u001b[0m\u001b[0m\n",
      "\u001b[1;32m~\\Anaconda3\\lib\\site-packages\\sklearn\\preprocessing\\_data.py\u001b[0m in \u001b[0;36m<listcomp>\u001b[1;34m(.0)\u001b[0m\n\u001b[0;32m   1652\u001b[0m                                           \u001b[0mself\u001b[0m\u001b[1;33m.\u001b[0m\u001b[0minteraction_only\u001b[0m\u001b[1;33m,\u001b[0m\u001b[1;33m\u001b[0m\u001b[1;33m\u001b[0m\u001b[0m\n\u001b[0;32m   1653\u001b[0m                                           self.include_bias)\n\u001b[1;32m-> 1654\u001b[1;33m         return np.vstack([np.bincount(c, minlength=self.n_input_features_)\n\u001b[0m\u001b[0;32m   1655\u001b[0m                           for c in combinations])\n\u001b[0;32m   1656\u001b[0m \u001b[1;33m\u001b[0m\u001b[0m\n",
      "\u001b[1;32m~\\Anaconda3\\lib\\site-packages\\numpy\\core\\overrides.py\u001b[0m in \u001b[0;36mbincount\u001b[1;34m(*args, **kwargs)\u001b[0m\n",
      "\u001b[1;31mKeyboardInterrupt\u001b[0m: "
     ]
    }
   ],
   "source": [
    "#engineer interaction features\n",
    "poly = PolynomialFeatures(2, interaction_only = True, include_bias = False)\n",
    "Xe = poly.fit_transform(X[1:10])\n",
    "cols = poly.get_feature_names(X.columns)\n",
    "Xe = pd.DataFrame(Xe, columns = cols)\n",
    "Xe.head(3)"
   ]
  },
  {
   "cell_type": "code",
   "execution_count": null,
   "id": "sitting-hotel",
   "metadata": {},
   "outputs": [],
   "source": [
    "Xe = (Xe - Xe.mean())/Xe.std()"
   ]
  },
  {
   "cell_type": "code",
   "execution_count": null,
   "id": "editorial-approval",
   "metadata": {},
   "outputs": [],
   "source": [
    "Xe['bias'] = 1\n",
    "Xe.head()"
   ]
  },
  {
   "cell_type": "code",
   "execution_count": 69,
   "id": "veterinary-closure",
   "metadata": {},
   "outputs": [
    {
     "name": "stdout",
     "output_type": "stream",
     "text": [
      "Train R2 1.0\n",
      "Validation R2 0.49\n"
     ]
    }
   ],
   "source": [
    "lr = LinearRegression(fit_intercept=False)\n",
    "lr.fit(X, Y)\n",
    "cv_results = cross_validate(lr, X, Y, return_train_score = True)\n",
    "R2_train = cv_results['train_score'].mean()\n",
    "R2_valid = cv_results['test_score'].mean()\n",
    "y_pred = lr.predict(X)\n",
    "print('Train R2', R2_train.round(2))\n",
    "print('Validation R2', R2_valid.round(2))"
   ]
  },
  {
   "cell_type": "code",
   "execution_count": 70,
   "id": "protective-country",
   "metadata": {},
   "outputs": [
    {
     "data": {
      "text/plain": [
       "Registration_JA8119                                    39.755897\n",
       "Type_Boeing B-747-SR46                                 39.755897\n",
       "cn/In_20783/230                                        39.755897\n",
       "Location_Mt. Osutaka, near Ueno Village, Japan         39.755897\n",
       "Location_Tenerife, Canary Islands                      32.345004\n",
       "cn/In_19643/11 / 20400/157                             31.293188\n",
       "Operator_Pan American World Airways / KLM              31.293188\n",
       "Type_Boeing B-747-121 / Boeing B-747-206B              31.293188\n",
       "Registration_N736PA/PH-BUF                             31.293188\n",
       "Route_Tenerife - Las Palmas / Tenerife - Las Palmas    31.293188\n",
       "dtype: float64"
      ]
     },
     "execution_count": 70,
     "metadata": {},
     "output_type": "execute_result"
    }
   ],
   "source": [
    "coef = pd.Series(lr.coef_, index = X.columns)\n",
    "coef.sort_values(ascending = False).head(10)"
   ]
  },
  {
   "cell_type": "code",
   "execution_count": null,
   "id": "vocational-antique",
   "metadata": {},
   "outputs": [],
   "source": []
  }
 ],
 "metadata": {
  "kernelspec": {
   "display_name": "Python 3",
   "language": "python",
   "name": "python3"
  },
  "language_info": {
   "codemirror_mode": {
    "name": "ipython",
    "version": 3
   },
   "file_extension": ".py",
   "mimetype": "text/x-python",
   "name": "python",
   "nbconvert_exporter": "python",
   "pygments_lexer": "ipython3",
   "version": "3.8.8"
  }
 },
 "nbformat": 4,
 "nbformat_minor": 5
}
