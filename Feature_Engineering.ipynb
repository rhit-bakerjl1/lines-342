{
 "cells": [
  {
   "cell_type": "markdown",
   "id": "demanding-sarah",
   "metadata": {},
   "source": [
    "# Feature Engineering"
   ]
  },
  {
   "cell_type": "code",
   "execution_count": 1,
   "id": "mighty-locator",
   "metadata": {},
   "outputs": [],
   "source": [
    "import numpy as np\n",
    "import matplotlib.pyplot as plt\n",
    "import pandas as pd\n",
    "from sklearn.model_selection import cross_validate\n",
    "from sklearn.linear_model import LinearRegression\n",
    "from sklearn.preprocessing import PolynomialFeatures"
   ]
  },
  {
   "cell_type": "code",
   "execution_count": 2,
   "id": "human-stephen",
   "metadata": {},
   "outputs": [],
   "source": [
    "df=pd.read_csv('more_data2.csv')\n",
    "df = df.drop('eng_mfgr', axis = 1)\n",
    "df = df.drop('acft_make', axis = 1)\n",
    "df = df.drop('acft_model', axis = 1)\n",
    "df = df.drop('inj_tot_f', axis = 1)\n",
    "df = df.drop('inj_tot_s', axis = 1)\n",
    "df = df.drop('inj_tot_m', axis = 1)\n",
    "df = df.dropna()"
   ]
  },
  {
   "cell_type": "code",
   "execution_count": 33,
   "id": "comparable-passage",
   "metadata": {},
   "outputs": [
    {
     "data": {
      "text/plain": [
       "27    0.022393\n",
       "37    0.022393\n",
       "39    0.470925\n",
       "40    0.919456\n",
       "41   -0.426138\n",
       "Name: inj_tot_t, dtype: float64"
      ]
     },
     "execution_count": 33,
     "metadata": {},
     "output_type": "execute_result"
    }
   ],
   "source": [
    "X_number = df.select_dtypes(include='number')\n",
    "X_category = df.select_dtypes(exclude='number')\n",
    "X_number = (X_number - X_number.mean())/X_number.std()\n",
    "X_category = pd.get_dummies(X_category)\n",
    "X = pd.concat([X_number, X_category], axis =1)\n",
    "Y=X.inj_tot_t\n",
    "X = X.drop('inj_tot_t', axis = 1)\n",
    "Y.head()"
   ]
  },
  {
   "cell_type": "code",
   "execution_count": 35,
   "id": "frank-circular",
   "metadata": {},
   "outputs": [
    {
     "data": {
      "text/html": [
       "<div>\n",
       "<style scoped>\n",
       "    .dataframe tbody tr th:only-of-type {\n",
       "        vertical-align: middle;\n",
       "    }\n",
       "\n",
       "    .dataframe tbody tr th {\n",
       "        vertical-align: top;\n",
       "    }\n",
       "\n",
       "    .dataframe thead th {\n",
       "        text-align: right;\n",
       "    }\n",
       "</style>\n",
       "<table border=\"1\" class=\"dataframe\">\n",
       "  <thead>\n",
       "    <tr style=\"text-align: right;\">\n",
       "      <th></th>\n",
       "      <th>ev_time</th>\n",
       "      <th>ev_year</th>\n",
       "      <th>sky_nonceil_ht</th>\n",
       "      <th>sky_ceil_ht</th>\n",
       "      <th>vis_sm</th>\n",
       "      <th>wx_temp</th>\n",
       "      <th>wx_dew_pt</th>\n",
       "      <th>wind_vel_kts</th>\n",
       "      <th>gust_kts</th>\n",
       "      <th>dec_latitude</th>\n",
       "      <th>...</th>\n",
       "      <th>eng_type_REC eng_type_TJ</th>\n",
       "      <th>eng_type_REC eng_type_TP</th>\n",
       "      <th>eng_type_REC eng_type_TS</th>\n",
       "      <th>eng_type_TF eng_type_TJ</th>\n",
       "      <th>eng_type_TF eng_type_TP</th>\n",
       "      <th>eng_type_TF eng_type_TS</th>\n",
       "      <th>eng_type_TJ eng_type_TP</th>\n",
       "      <th>eng_type_TJ eng_type_TS</th>\n",
       "      <th>eng_type_TP eng_type_TS</th>\n",
       "      <th>bias</th>\n",
       "    </tr>\n",
       "  </thead>\n",
       "  <tbody>\n",
       "    <tr>\n",
       "      <th>0</th>\n",
       "      <td>0.990709</td>\n",
       "      <td>0.002367</td>\n",
       "      <td>5.663945</td>\n",
       "      <td>-0.223693</td>\n",
       "      <td>0.011537</td>\n",
       "      <td>0.100763</td>\n",
       "      <td>-1.733665</td>\n",
       "      <td>-0.691979</td>\n",
       "      <td>-0.452436</td>\n",
       "      <td>-0.765044</td>\n",
       "      <td>...</td>\n",
       "      <td>0.0</td>\n",
       "      <td>0.0</td>\n",
       "      <td>0.0</td>\n",
       "      <td>0.0</td>\n",
       "      <td>0.0</td>\n",
       "      <td>0.0</td>\n",
       "      <td>0.0</td>\n",
       "      <td>0.0</td>\n",
       "      <td>0.0</td>\n",
       "      <td>1</td>\n",
       "    </tr>\n",
       "    <tr>\n",
       "      <th>1</th>\n",
       "      <td>0.334498</td>\n",
       "      <td>0.355313</td>\n",
       "      <td>5.663945</td>\n",
       "      <td>-0.223693</td>\n",
       "      <td>0.011537</td>\n",
       "      <td>-0.481640</td>\n",
       "      <td>-0.696658</td>\n",
       "      <td>0.058737</td>\n",
       "      <td>-0.452436</td>\n",
       "      <td>-0.965213</td>\n",
       "      <td>...</td>\n",
       "      <td>0.0</td>\n",
       "      <td>0.0</td>\n",
       "      <td>0.0</td>\n",
       "      <td>0.0</td>\n",
       "      <td>0.0</td>\n",
       "      <td>0.0</td>\n",
       "      <td>0.0</td>\n",
       "      <td>0.0</td>\n",
       "      <td>0.0</td>\n",
       "      <td>1</td>\n",
       "    </tr>\n",
       "    <tr>\n",
       "      <th>2</th>\n",
       "      <td>1.023601</td>\n",
       "      <td>0.708260</td>\n",
       "      <td>5.663945</td>\n",
       "      <td>-0.223693</td>\n",
       "      <td>0.011537</td>\n",
       "      <td>-0.111020</td>\n",
       "      <td>-0.230004</td>\n",
       "      <td>-0.691979</td>\n",
       "      <td>-0.452436</td>\n",
       "      <td>-1.132837</td>\n",
       "      <td>...</td>\n",
       "      <td>0.0</td>\n",
       "      <td>0.0</td>\n",
       "      <td>0.0</td>\n",
       "      <td>0.0</td>\n",
       "      <td>0.0</td>\n",
       "      <td>0.0</td>\n",
       "      <td>0.0</td>\n",
       "      <td>0.0</td>\n",
       "      <td>0.0</td>\n",
       "      <td>1</td>\n",
       "    </tr>\n",
       "  </tbody>\n",
       "</table>\n",
       "<p>3 rows × 947 columns</p>\n",
       "</div>"
      ],
      "text/plain": [
       "    ev_time   ev_year  sky_nonceil_ht  sky_ceil_ht    vis_sm   wx_temp  \\\n",
       "0  0.990709  0.002367        5.663945    -0.223693  0.011537  0.100763   \n",
       "1  0.334498  0.355313        5.663945    -0.223693  0.011537 -0.481640   \n",
       "2  1.023601  0.708260        5.663945    -0.223693  0.011537 -0.111020   \n",
       "\n",
       "   wx_dew_pt  wind_vel_kts  gust_kts  dec_latitude  ...  \\\n",
       "0  -1.733665     -0.691979 -0.452436     -0.765044  ...   \n",
       "1  -0.696658      0.058737 -0.452436     -0.965213  ...   \n",
       "2  -0.230004     -0.691979 -0.452436     -1.132837  ...   \n",
       "\n",
       "   eng_type_REC eng_type_TJ  eng_type_REC eng_type_TP  \\\n",
       "0                       0.0                       0.0   \n",
       "1                       0.0                       0.0   \n",
       "2                       0.0                       0.0   \n",
       "\n",
       "   eng_type_REC eng_type_TS  eng_type_TF eng_type_TJ  eng_type_TF eng_type_TP  \\\n",
       "0                       0.0                      0.0                      0.0   \n",
       "1                       0.0                      0.0                      0.0   \n",
       "2                       0.0                      0.0                      0.0   \n",
       "\n",
       "   eng_type_TF eng_type_TS  eng_type_TJ eng_type_TP  eng_type_TJ eng_type_TS  \\\n",
       "0                      0.0                      0.0                      0.0   \n",
       "1                      0.0                      0.0                      0.0   \n",
       "2                      0.0                      0.0                      0.0   \n",
       "\n",
       "   eng_type_TP eng_type_TS  bias  \n",
       "0                      0.0     1  \n",
       "1                      0.0     1  \n",
       "2                      0.0     1  \n",
       "\n",
       "[3 rows x 947 columns]"
      ]
     },
     "execution_count": 35,
     "metadata": {},
     "output_type": "execute_result"
    }
   ],
   "source": [
    "#engineer interaction features\n",
    "poly = PolynomialFeatures(2, interaction_only = True, include_bias = False)\n",
    "Xe = poly.fit_transform(X)\n",
    "cols = poly.get_feature_names(X.columns)\n",
    "Xe = pd.DataFrame(Xe, columns = cols)\n",
    "#Xe = (Xe - Xe.mean())/Xe.std()\n",
    "Xe = Xe.dropna(axis=1)\n",
    "Xe['bias'] = 1\n",
    "Xe.head(3)"
   ]
  },
  {
   "cell_type": "code",
   "execution_count": 36,
   "id": "veterinary-closure",
   "metadata": {},
   "outputs": [
    {
     "name": "stdout",
     "output_type": "stream",
     "text": [
      "Train R2 0.86\n",
      "Validation R2 -2.6500974115357346e+23\n"
     ]
    }
   ],
   "source": [
    "lr = LinearRegression(fit_intercept=False)\n",
    "lr.fit(Xe, Y)\n",
    "cv_results = cross_validate(lr, Xe, Y, return_train_score = True)\n",
    "R2_train = cv_results['train_score'].mean()\n",
    "R2_valid = cv_results['test_score'].mean()\n",
    "print('Train R2', R2_train.round(2))\n",
    "print('Validation R2', R2_valid.round(2))"
   ]
  },
  {
   "cell_type": "code",
   "execution_count": 41,
   "id": "protective-country",
   "metadata": {},
   "outputs": [
    {
     "data": {
      "text/plain": [
       "sky_nonceil_ht eng_type_TP             -3.289340\n",
       "acft_year eng_type_REC                 -2.468681\n",
       "damage_DEST eng_type_TP                -2.211076\n",
       "rwy_len eng_type_TP                    -1.937841\n",
       "second_pilot_Y eng_type_TP             -1.920719\n",
       "afm_hrs_last_insp eng_type_TP          -1.671320\n",
       "light_cond_NITE eng_type_TP            -1.640992\n",
       "acft_fire_NONE eng_type_TP             -1.609765\n",
       "num_eng eng_type_TS                    -1.485557\n",
       "sky_ceil_ht eng_type_REC               -1.310873\n",
       "gust_kts eng_type_TF                   -1.213461\n",
       "wx_temp light_cond_NDRK                -1.176991\n",
       "ev_time eng_type_REC                   -1.138462\n",
       "eng_type_TP                            -0.947764\n",
       "carb_fuel_injection_FINJ eng_type_TP   -0.947764\n",
       "ev_country_USA eng_type_TP             -0.947764\n",
       "power_units eng_type_TP                -0.920889\n",
       "second_pilot_N eng_type_REC            -0.900057\n",
       "dec_latitude eng_type_TF               -0.838945\n",
       "wx_temp eng_type_TP                    -0.835104\n",
       "ev_time eng_type_TS                    -0.811570\n",
       "acft_fire_GRD eng_type_REC             -0.794548\n",
       "damage_SUBS eng_type_REC               -0.794304\n",
       "sky_ceil_ht light_cond_DUSK            -0.793161\n",
       "light_cond_NDRK eng_type_REC           -0.782484\n",
       "dtype: float64"
      ]
     },
     "execution_count": 41,
     "metadata": {},
     "output_type": "execute_result"
    }
   ],
   "source": [
    "coef = pd.Series(lr.coef_, index = Xe.columns)\n",
    "coef.sort_values().head(25)\n",
    "#coef = pd.Series(lr.coef_, index = Xe.columns).round(2)\n",
    "#coef = coef.replace(0, np.nan)\n",
    "#coef = coef.dropna()\n",
    "#coef = coef.sort_values(ascending = False)\n",
    "#coef.plot(x='coeff', figsize=(5, 20), kind=\"barh\")\n",
    "#coef"
   ]
  },
  {
   "cell_type": "code",
   "execution_count": null,
   "id": "palestinian-photograph",
   "metadata": {},
   "outputs": [],
   "source": []
  },
  {
   "cell_type": "code",
   "execution_count": null,
   "id": "swedish-quantum",
   "metadata": {},
   "outputs": [],
   "source": []
  },
  {
   "cell_type": "code",
   "execution_count": null,
   "id": "nearby-honey",
   "metadata": {},
   "outputs": [],
   "source": []
  }
 ],
 "metadata": {
  "kernelspec": {
   "display_name": "Python 3",
   "language": "python",
   "name": "python3"
  },
  "language_info": {
   "codemirror_mode": {
    "name": "ipython",
    "version": 3
   },
   "file_extension": ".py",
   "mimetype": "text/x-python",
   "name": "python",
   "nbconvert_exporter": "python",
   "pygments_lexer": "ipython3",
   "version": "3.8.8"
  }
 },
 "nbformat": 4,
 "nbformat_minor": 5
}
